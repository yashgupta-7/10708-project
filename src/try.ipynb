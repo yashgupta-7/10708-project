{
 "cells": [
  {
   "cell_type": "code",
   "execution_count": 12,
   "metadata": {},
   "outputs": [],
   "source": [
    "seed = 0\n",
    "import torch\n",
    "torch.manual_seed(seed)\n",
    "import random\n",
    "random.seed(seed)\n",
    "import numpy as np\n",
    "np.random.seed(seed)\n",
    "torch.use_deterministic_algorithms(True)"
   ]
  },
  {
   "cell_type": "code",
   "execution_count": 13,
   "metadata": {},
   "outputs": [],
   "source": [
    "import torch\n",
    "from torch import Tensor\n",
    "from torch_geometric.logging import init_wandb, log\n",
    "from torch_geometric.datasets import Planetoid\n",
    "from utils import train, test, edgeindex2adj\n",
    "from models import GCN, GAT, LP\n",
    "citeseer = Planetoid(root='.', name='Citeseer')\n",
    "cora = Planetoid(root='.', name='Cora')\n",
    "pubmed = Planetoid(root='.', name='Pubmed')"
   ]
  },
  {
   "cell_type": "code",
   "execution_count": 14,
   "metadata": {},
   "outputs": [],
   "source": [
    "# dataset = citeseer\n",
    "# model = GCN(dataset.num_features, 24, dataset.num_classes)\n",
    "\n",
    "dataset = cora\n",
    "model = GCN(dataset.num_features, 8, dataset.num_classes)\n",
    "\n",
    "# dataset = pubmed\n",
    "# model = GCN(dataset.num_features, 8, dataset.num_classes)\n",
    "\n",
    "# dataset = citeseer\n",
    "# model = GAT(dataset.num_features, 8, dataset.num_classes, heads=4)\n",
    "\n",
    "# dataset = cora\n",
    "# model = GAT(dataset.num_features, 8, dataset.num_classes, heads=4)\n",
    "\n",
    "# dataset = pubmed\n",
    "# model = GAT(dataset.num_features, 8, dataset.num_classes, heads=4)\n",
    "\n",
    "optimizer = torch.optim.Adam(model.parameters(), lr=0.005, weight_decay=5e-4)"
   ]
  },
  {
   "cell_type": "code",
   "execution_count": 15,
   "metadata": {},
   "outputs": [],
   "source": [
    "ei = dataset[0].edge_index\n",
    "adj = edgeindex2adj(ei, dataset.x.shape[0])"
   ]
  },
  {
   "cell_type": "code",
   "execution_count": 16,
   "metadata": {},
   "outputs": [
    {
     "name": "stdout",
     "output_type": "stream",
     "text": [
      "Epoch: 001, Loss: 1.954114317893982, Train: 0.2857, Val: 0.1580, Test: 0.1610\n",
      "Epoch: 002, Loss: 1.8951189517974854, Train: 0.3571, Val: 0.1780, Test: 0.1680\n",
      "Epoch: 003, Loss: 1.8434655666351318, Train: 0.4286, Val: 0.1780, Test: 0.1680\n",
      "Epoch: 004, Loss: 1.785523533821106, Train: 0.4286, Val: 0.1780, Test: 0.1680\n",
      "Epoch: 005, Loss: 1.7209957838058472, Train: 0.4286, Val: 0.1860, Test: 0.1840\n",
      "Epoch: 006, Loss: 1.6529338359832764, Train: 0.5000, Val: 0.1900, Test: 0.1950\n",
      "Epoch: 007, Loss: 1.5840550661087036, Train: 0.5000, Val: 0.2080, Test: 0.2020\n",
      "Epoch: 008, Loss: 1.5144073963165283, Train: 0.6429, Val: 0.2160, Test: 0.2150\n",
      "Epoch: 009, Loss: 1.4449814558029175, Train: 0.6429, Val: 0.2240, Test: 0.2280\n",
      "Epoch: 010, Loss: 1.3775851726531982, Train: 0.6429, Val: 0.2340, Test: 0.2390\n",
      "Epoch: 011, Loss: 1.313022255897522, Train: 0.6429, Val: 0.2400, Test: 0.2470\n",
      "Epoch: 012, Loss: 1.2517119646072388, Train: 0.6429, Val: 0.2480, Test: 0.2550\n",
      "Epoch: 013, Loss: 1.1939951181411743, Train: 0.7143, Val: 0.2520, Test: 0.2640\n",
      "Epoch: 014, Loss: 1.1389973163604736, Train: 0.7143, Val: 0.2580, Test: 0.2700\n",
      "Epoch: 015, Loss: 1.0868645906448364, Train: 0.7143, Val: 0.2640, Test: 0.2730\n",
      "Epoch: 016, Loss: 1.037358283996582, Train: 0.7143, Val: 0.2660, Test: 0.2750\n",
      "Epoch: 017, Loss: 0.9904616475105286, Train: 0.7143, Val: 0.2700, Test: 0.2780\n",
      "Epoch: 018, Loss: 0.9461387395858765, Train: 0.7143, Val: 0.2700, Test: 0.2780\n",
      "Epoch: 019, Loss: 0.9042590856552124, Train: 0.7143, Val: 0.2760, Test: 0.2880\n",
      "Epoch: 020, Loss: 0.8642200827598572, Train: 0.7143, Val: 0.2800, Test: 0.2890\n",
      "Epoch: 021, Loss: 0.8259723782539368, Train: 0.7143, Val: 0.2800, Test: 0.2890\n",
      "Epoch: 022, Loss: 0.7894205451011658, Train: 0.7143, Val: 0.2840, Test: 0.3050\n",
      "Epoch: 023, Loss: 0.7542360424995422, Train: 0.7143, Val: 0.2920, Test: 0.3100\n",
      "Epoch: 024, Loss: 0.7205275297164917, Train: 0.7143, Val: 0.2980, Test: 0.3180\n",
      "Epoch: 025, Loss: 0.6882011294364929, Train: 0.7143, Val: 0.2980, Test: 0.3180\n",
      "Epoch: 026, Loss: 0.6570630073547363, Train: 0.7857, Val: 0.3020, Test: 0.3250\n",
      "Epoch: 027, Loss: 0.6270571947097778, Train: 0.8571, Val: 0.3080, Test: 0.3310\n",
      "Epoch: 028, Loss: 0.5982084274291992, Train: 0.9286, Val: 0.3100, Test: 0.3330\n",
      "Epoch: 029, Loss: 0.5705651640892029, Train: 0.9286, Val: 0.3060, Test: 0.3330\n",
      "Epoch: 030, Loss: 0.5439289808273315, Train: 0.9286, Val: 0.3120, Test: 0.3370\n",
      "Epoch: 031, Loss: 0.5182666182518005, Train: 0.9286, Val: 0.3120, Test: 0.3370\n",
      "Epoch: 032, Loss: 0.49357980489730835, Train: 0.9286, Val: 0.3220, Test: 0.3410\n",
      "Epoch: 033, Loss: 0.46972259879112244, Train: 1.0000, Val: 0.3200, Test: 0.3410\n",
      "Epoch: 034, Loss: 0.44673579931259155, Train: 1.0000, Val: 0.3180, Test: 0.3410\n",
      "Epoch: 035, Loss: 0.4245876371860504, Train: 1.0000, Val: 0.3160, Test: 0.3410\n",
      "Epoch: 036, Loss: 0.4032486081123352, Train: 1.0000, Val: 0.3140, Test: 0.3410\n",
      "Epoch: 037, Loss: 0.3826528489589691, Train: 1.0000, Val: 0.3180, Test: 0.3410\n",
      "Epoch: 038, Loss: 0.3628869354724884, Train: 1.0000, Val: 0.3300, Test: 0.3570\n",
      "Epoch: 039, Loss: 0.3438372313976288, Train: 1.0000, Val: 0.3300, Test: 0.3570\n",
      "Epoch: 040, Loss: 0.3255178928375244, Train: 1.0000, Val: 0.3400, Test: 0.3680\n",
      "Epoch: 041, Loss: 0.3079351484775543, Train: 1.0000, Val: 0.3400, Test: 0.3680\n",
      "Epoch: 042, Loss: 0.2910686135292053, Train: 1.0000, Val: 0.3480, Test: 0.3840\n",
      "Epoch: 043, Loss: 0.27465343475341797, Train: 1.0000, Val: 0.3560, Test: 0.3820\n",
      "Epoch: 044, Loss: 0.2587827444076538, Train: 1.0000, Val: 0.3700, Test: 0.3900\n",
      "Epoch: 045, Loss: 0.24327854812145233, Train: 1.0000, Val: 0.3720, Test: 0.3930\n",
      "Epoch: 046, Loss: 0.22807767987251282, Train: 1.0000, Val: 0.3920, Test: 0.3940\n",
      "Epoch: 047, Loss: 0.21320782601833344, Train: 1.0000, Val: 0.3960, Test: 0.3990\n",
      "Epoch: 048, Loss: 0.19862458109855652, Train: 1.0000, Val: 0.4060, Test: 0.4060\n",
      "Epoch: 049, Loss: 0.18460392951965332, Train: 1.0000, Val: 0.4140, Test: 0.4140\n",
      "Epoch: 050, Loss: 0.1714329868555069, Train: 1.0000, Val: 0.4180, Test: 0.4160\n",
      "Epoch: 051, Loss: 0.15920807421207428, Train: 1.0000, Val: 0.4300, Test: 0.4240\n",
      "Epoch: 052, Loss: 0.147969588637352, Train: 1.0000, Val: 0.4440, Test: 0.4290\n",
      "Epoch: 053, Loss: 0.13764120638370514, Train: 1.0000, Val: 0.4480, Test: 0.4360\n",
      "Epoch: 054, Loss: 0.12826436758041382, Train: 1.0000, Val: 0.4500, Test: 0.4430\n",
      "Epoch: 055, Loss: 0.1197810024023056, Train: 1.0000, Val: 0.4660, Test: 0.4530\n",
      "Epoch: 056, Loss: 0.1120263934135437, Train: 1.0000, Val: 0.4700, Test: 0.4620\n",
      "Epoch: 057, Loss: 0.10495754331350327, Train: 1.0000, Val: 0.4720, Test: 0.4660\n",
      "Epoch: 058, Loss: 0.09849420934915543, Train: 1.0000, Val: 0.4760, Test: 0.4740\n",
      "Epoch: 059, Loss: 0.09257986396551132, Train: 1.0000, Val: 0.4780, Test: 0.4760\n",
      "Epoch: 060, Loss: 0.08716195821762085, Train: 1.0000, Val: 0.4820, Test: 0.4810\n",
      "Epoch: 061, Loss: 0.08216091245412827, Train: 1.0000, Val: 0.4840, Test: 0.4860\n",
      "Epoch: 062, Loss: 0.07754882425069809, Train: 1.0000, Val: 0.4860, Test: 0.4890\n",
      "Epoch: 063, Loss: 0.07328470051288605, Train: 1.0000, Val: 0.4880, Test: 0.4880\n",
      "Epoch: 064, Loss: 0.06932801753282547, Train: 1.0000, Val: 0.4880, Test: 0.4880\n",
      "Epoch: 065, Loss: 0.06566663086414337, Train: 1.0000, Val: 0.4860, Test: 0.4880\n",
      "Epoch: 066, Loss: 0.062285054475069046, Train: 1.0000, Val: 0.4860, Test: 0.4880\n",
      "Epoch: 067, Loss: 0.05915584787726402, Train: 1.0000, Val: 0.4860, Test: 0.4880\n",
      "Epoch: 068, Loss: 0.05626924708485603, Train: 1.0000, Val: 0.4860, Test: 0.4880\n",
      "Epoch: 069, Loss: 0.05360940098762512, Train: 1.0000, Val: 0.4860, Test: 0.4880\n",
      "Epoch: 070, Loss: 0.05113888531923294, Train: 1.0000, Val: 0.4840, Test: 0.4880\n",
      "Epoch: 071, Loss: 0.04884203150868416, Train: 1.0000, Val: 0.4820, Test: 0.4880\n",
      "Epoch: 072, Loss: 0.04671934247016907, Train: 1.0000, Val: 0.4800, Test: 0.4880\n",
      "Epoch: 073, Loss: 0.04476774483919144, Train: 1.0000, Val: 0.4800, Test: 0.4880\n",
      "Epoch: 074, Loss: 0.0429566316306591, Train: 1.0000, Val: 0.4800, Test: 0.4880\n",
      "Epoch: 075, Loss: 0.04127727821469307, Train: 1.0000, Val: 0.4800, Test: 0.4880\n",
      "Epoch: 076, Loss: 0.03971648961305618, Train: 1.0000, Val: 0.4780, Test: 0.4880\n",
      "Epoch: 077, Loss: 0.038262248039245605, Train: 1.0000, Val: 0.4780, Test: 0.4880\n",
      "Epoch: 078, Loss: 0.036910708993673325, Train: 1.0000, Val: 0.4760, Test: 0.4880\n",
      "Epoch: 079, Loss: 0.03565436601638794, Train: 1.0000, Val: 0.4740, Test: 0.4880\n",
      "Epoch: 080, Loss: 0.03447986766695976, Train: 1.0000, Val: 0.4740, Test: 0.4880\n",
      "Epoch: 081, Loss: 0.033386167138814926, Train: 1.0000, Val: 0.4720, Test: 0.4880\n",
      "Epoch: 082, Loss: 0.03236481919884682, Train: 1.0000, Val: 0.4720, Test: 0.4880\n",
      "Epoch: 083, Loss: 0.03140575811266899, Train: 1.0000, Val: 0.4720, Test: 0.4880\n",
      "Epoch: 084, Loss: 0.030503852292895317, Train: 1.0000, Val: 0.4720, Test: 0.4880\n",
      "Epoch: 085, Loss: 0.029654357582330704, Train: 1.0000, Val: 0.4720, Test: 0.4880\n",
      "Epoch: 086, Loss: 0.028854509815573692, Train: 1.0000, Val: 0.4700, Test: 0.4880\n",
      "Epoch: 087, Loss: 0.028103675693273544, Train: 1.0000, Val: 0.4720, Test: 0.4880\n",
      "Epoch: 088, Loss: 0.02739674039185047, Train: 1.0000, Val: 0.4720, Test: 0.4880\n",
      "Epoch: 089, Loss: 0.0267303679138422, Train: 1.0000, Val: 0.4720, Test: 0.4880\n",
      "Epoch: 090, Loss: 0.02610120363533497, Train: 1.0000, Val: 0.4720, Test: 0.4880\n",
      "Epoch: 091, Loss: 0.025507761165499687, Train: 1.0000, Val: 0.4700, Test: 0.4880\n",
      "Epoch: 092, Loss: 0.024944493547081947, Train: 1.0000, Val: 0.4700, Test: 0.4880\n",
      "Epoch: 093, Loss: 0.024410605430603027, Train: 1.0000, Val: 0.4700, Test: 0.4880\n",
      "Epoch: 094, Loss: 0.02390359714627266, Train: 1.0000, Val: 0.4700, Test: 0.4880\n",
      "Epoch: 095, Loss: 0.023421699181199074, Train: 1.0000, Val: 0.4700, Test: 0.4880\n",
      "Epoch: 096, Loss: 0.02296394109725952, Train: 1.0000, Val: 0.4700, Test: 0.4880\n",
      "Epoch: 097, Loss: 0.022529538720846176, Train: 1.0000, Val: 0.4700, Test: 0.4880\n",
      "Epoch: 098, Loss: 0.022114170715212822, Train: 1.0000, Val: 0.4700, Test: 0.4880\n",
      "Epoch: 099, Loss: 0.021718846634030342, Train: 1.0000, Val: 0.4700, Test: 0.4880\n",
      "Best Val Acc: 0.4880 Test Acc: 0.4880\n"
     ]
    }
   ],
   "source": [
    "data = dataset[0]\n",
    "data.train_mask[torch.randperm(data.train_mask.shape[0])[:int(0.9 * data.train_mask.shape[0])]] = False\n",
    "\n",
    "best_val_acc = final_test_acc = 0\n",
    "for epoch in range(1, 100):\n",
    "    loss = train(model, data, optimizer, loss='cross_entropy')\n",
    "    train_acc, val_acc, tmp_test_acc = test(model, data)\n",
    "    if val_acc > best_val_acc:\n",
    "        best_val_acc = val_acc\n",
    "        test_acc = tmp_test_acc\n",
    "    log(Epoch=epoch, Loss=loss, Train=train_acc, Val=val_acc, Test=test_acc)\n",
    "print(f'Best Val Acc: {best_val_acc:.4f}', f'Test Acc: {test_acc:.4f}')"
   ]
  },
  {
   "cell_type": "code",
   "execution_count": null,
   "metadata": {},
   "outputs": [],
   "source": []
  },
  {
   "cell_type": "code",
   "execution_count": null,
   "metadata": {},
   "outputs": [],
   "source": []
  },
  {
   "cell_type": "code",
   "execution_count": null,
   "metadata": {},
   "outputs": [],
   "source": []
  },
  {
   "cell_type": "code",
   "execution_count": null,
   "metadata": {},
   "outputs": [],
   "source": []
  },
  {
   "cell_type": "code",
   "execution_count": null,
   "metadata": {},
   "outputs": [],
   "source": []
  },
  {
   "cell_type": "code",
   "execution_count": null,
   "metadata": {},
   "outputs": [],
   "source": []
  },
  {
   "cell_type": "code",
   "execution_count": null,
   "metadata": {},
   "outputs": [],
   "source": []
  },
  {
   "cell_type": "code",
   "execution_count": null,
   "metadata": {},
   "outputs": [],
   "source": []
  },
  {
   "cell_type": "code",
   "execution_count": null,
   "metadata": {},
   "outputs": [],
   "source": []
  },
  {
   "cell_type": "code",
   "execution_count": 6,
   "metadata": {},
   "outputs": [
    {
     "name": "stdout",
     "output_type": "stream",
     "text": [
      "Best Val Acc: 0.7260 Test Acc: 0.7140 Best l: 16 Best a: 0.99\n"
     ]
    }
   ],
   "source": [
    "# dataset = citeseer\n",
    "# dataset = cora\n",
    "dataset = pubmed\n",
    "\n",
    "best_val_acc = final_test_acc = 0\n",
    "best_l = best_a = 0\n",
    "\n",
    "for l in [1, 2, 4, 8, 16, 32]:\n",
    "    for a in [0.05, 0.1, 0.3, 0.6, 0.8, 0.9, 0.95, 0.99, 1]:\n",
    "        model = LP(num_layers=l, alpha=a)\n",
    "        outs = model.train(dataset)\n",
    "        train_acc, val_acc, tmp_test_acc = model.test()\n",
    "        if val_acc > best_val_acc:\n",
    "            best_val_acc = val_acc\n",
    "            test_acc = tmp_test_acc\n",
    "            best_l = l\n",
    "            best_a = a\n",
    "            \n",
    "print(f'Best Val Acc: {best_val_acc:.4f}', f'Test Acc: {test_acc:.4f}', f'Best l: {best_l}', f'Best a: {best_a}')"
   ]
  },
  {
   "cell_type": "code",
   "execution_count": 7,
   "metadata": {},
   "outputs": [
    {
     "data": {
      "text/plain": [
       "[0.8833333333333333, 0.712, 0.707]"
      ]
     },
     "execution_count": 7,
     "metadata": {},
     "output_type": "execute_result"
    }
   ],
   "source": [
    "accs = model.test()\n",
    "accs"
   ]
  },
  {
   "cell_type": "code",
   "execution_count": 8,
   "metadata": {},
   "outputs": [
    {
     "data": {
      "text/plain": [
       "torch.Size([19717, 3])"
      ]
     },
     "execution_count": 8,
     "metadata": {},
     "output_type": "execute_result"
    }
   ],
   "source": [
    "outs.shape"
   ]
  },
  {
   "cell_type": "code",
   "execution_count": 9,
   "metadata": {},
   "outputs": [
    {
     "data": {
      "text/plain": [
       "tensor([1, 1, 0,  ..., 2, 0, 2])"
      ]
     },
     "execution_count": 9,
     "metadata": {},
     "output_type": "execute_result"
    }
   ],
   "source": [
    "outs.argmax(dim=-1)"
   ]
  },
  {
   "cell_type": "code",
   "execution_count": 10,
   "metadata": {},
   "outputs": [
    {
     "data": {
      "text/plain": [
       "tensor([1, 1, 0,  ..., 2, 0, 2])"
      ]
     },
     "execution_count": 10,
     "metadata": {},
     "output_type": "execute_result"
    }
   ],
   "source": [
    "dataset[0].y"
   ]
  },
  {
   "cell_type": "code",
   "execution_count": 11,
   "metadata": {},
   "outputs": [
    {
     "data": {
      "text/plain": [
       "3"
      ]
     },
     "execution_count": 11,
     "metadata": {},
     "output_type": "execute_result"
    }
   ],
   "source": [
    "dataset.num_classes"
   ]
  },
  {
   "cell_type": "code",
   "execution_count": null,
   "metadata": {},
   "outputs": [],
   "source": []
  }
 ],
 "metadata": {
  "kernelspec": {
   "display_name": "base",
   "language": "python",
   "name": "python3"
  },
  "language_info": {
   "codemirror_mode": {
    "name": "ipython",
    "version": 3
   },
   "file_extension": ".py",
   "mimetype": "text/x-python",
   "name": "python",
   "nbconvert_exporter": "python",
   "pygments_lexer": "ipython3",
   "version": "3.7.16"
  },
  "orig_nbformat": 4,
  "vscode": {
   "interpreter": {
    "hash": "1fe8eaf950b0cf64c1b70de22759d9a144a2595c541b4003711edd1f96d908e5"
   }
  }
 },
 "nbformat": 4,
 "nbformat_minor": 2
}

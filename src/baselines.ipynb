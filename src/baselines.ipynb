{
 "cells": [
  {
   "cell_type": "code",
   "execution_count": 1,
   "metadata": {},
   "outputs": [],
   "source": [
    "import torch\n",
    "import random\n",
    "import numpy as np\n",
    "import argparse\n",
    "\n",
    "import torch\n",
    "from torch import Tensor\n",
    "from torch_geometric.logging import init_wandb, log\n",
    "from torch_geometric.datasets import Planetoid\n",
    "from utils import train, test\n",
    "from models import GCN, GAT, LP"
   ]
  },
  {
   "cell_type": "code",
   "execution_count": 2,
   "metadata": {},
   "outputs": [],
   "source": [
    "citeseer = Planetoid(root='.', name='Citeseer')\n",
    "cora = Planetoid(root='.', name='Cora')\n",
    "pubmed = Planetoid(root='.', name='Pubmed')\n",
    "torch.use_deterministic_algorithms(True)"
   ]
  },
  {
   "cell_type": "code",
   "execution_count": 3,
   "metadata": {},
   "outputs": [],
   "source": [
    "k = 20\n",
    "seeds = [42, 2021, 1234]\n",
    "lr = 0.05\n",
    "epochs = 200"
   ]
  },
  {
   "attachments": {},
   "cell_type": "markdown",
   "metadata": {},
   "source": [
    "GAT/GCN"
   ]
  },
  {
   "cell_type": "code",
   "execution_count": 4,
   "metadata": {},
   "outputs": [],
   "source": [
    "# dataset = citeseer\n",
    "# model = GCN(dataset.num_features, 16, dataset.num_classes)\n",
    "\n",
    "# dataset = cora\n",
    "# model = GCN(dataset.num_features, 16, dataset.num_classes)\n",
    "\n",
    "# dataset = pubmed\n",
    "# model = GCN(dataset.num_features, 16, dataset.num_classes)\n",
    "\n",
    "# dataset = citeseer\n",
    "# model = GAT(dataset.num_features, 8, dataset.num_classes, heads=8)\n",
    "\n",
    "dataset = cora\n",
    "model = GAT(dataset.num_features, 8, dataset.num_classes, heads=8)\n",
    "\n",
    "# dataset = pubmed\n",
    "# model = GAT(dataset.num_features, 8, dataset.num_classes, heads=8)"
   ]
  },
  {
   "cell_type": "code",
   "execution_count": 5,
   "metadata": {},
   "outputs": [],
   "source": [
    "torch.manual_seed(0)\n",
    "data = dataset[0]\n",
    "for c in data.y.unique():\n",
    "    idx = ((data.y == c) & data.train_mask).nonzero(as_tuple=False).view(-1)\n",
    "    idx = idx[torch.randperm(idx.size(0))]\n",
    "    idx = idx[k:]\n",
    "    data.train_mask[idx] = False"
   ]
  },
  {
   "cell_type": "code",
   "execution_count": 6,
   "metadata": {},
   "outputs": [
    {
     "name": "stdout",
     "output_type": "stream",
     "text": [
      "RUNNING FOR SEED = 42\n",
      "Epoch: 025, Loss: 0.8199445605278015, Train: 0.9929, Val: 0.7640, Test: 0.7850\n",
      "Epoch: 050, Loss: 0.6999306082725525, Train: 1.0000, Val: 0.7600, Test: 0.7920\n",
      "Epoch: 075, Loss: 0.5875239968299866, Train: 1.0000, Val: 0.7560, Test: 0.7920\n",
      "Epoch: 100, Loss: 0.8628774881362915, Train: 0.9929, Val: 0.7580, Test: 0.7920\n",
      "Epoch: 125, Loss: 0.7245253324508667, Train: 0.9857, Val: 0.7620, Test: 0.7920\n",
      "Epoch: 150, Loss: 0.7045778632164001, Train: 0.9929, Val: 0.7680, Test: 0.7920\n",
      "Epoch: 175, Loss: 0.8889004588127136, Train: 0.9929, Val: 0.7380, Test: 0.7920\n",
      "Best Val Acc: 0.7960 Test Acc: 0.7920\n",
      "RUNNING FOR SEED = 2021\n",
      "Epoch: 025, Loss: 0.916644275188446, Train: 0.9786, Val: 0.7520, Test: 0.7720\n",
      "Epoch: 050, Loss: 0.7836233973503113, Train: 0.9929, Val: 0.7520, Test: 0.7910\n",
      "Epoch: 075, Loss: 0.9305856823921204, Train: 0.9929, Val: 0.7520, Test: 0.7910\n",
      "Epoch: 100, Loss: 0.602832019329071, Train: 0.9929, Val: 0.7740, Test: 0.7910\n",
      "Epoch: 125, Loss: 0.8839194774627686, Train: 1.0000, Val: 0.7720, Test: 0.7910\n",
      "Epoch: 150, Loss: 0.7039720416069031, Train: 0.9929, Val: 0.7400, Test: 0.7910\n",
      "Epoch: 175, Loss: 0.707050621509552, Train: 0.9857, Val: 0.7700, Test: 0.8040\n",
      "Best Val Acc: 0.8060 Test Acc: 0.8040\n",
      "RUNNING FOR SEED = 1234\n",
      "Epoch: 025, Loss: 0.9356936812400818, Train: 1.0000, Val: 0.7900, Test: 0.7970\n",
      "Epoch: 050, Loss: 0.8462015390396118, Train: 0.9929, Val: 0.7740, Test: 0.8050\n",
      "Epoch: 075, Loss: 0.470176100730896, Train: 0.9929, Val: 0.7980, Test: 0.8050\n",
      "Epoch: 100, Loss: 0.5698956847190857, Train: 1.0000, Val: 0.7860, Test: 0.8050\n",
      "Epoch: 125, Loss: 0.6779099106788635, Train: 0.9929, Val: 0.7600, Test: 0.8050\n",
      "Epoch: 150, Loss: 0.6950607299804688, Train: 1.0000, Val: 0.7600, Test: 0.8050\n",
      "Epoch: 175, Loss: 0.5667528510093689, Train: 0.9929, Val: 0.7640, Test: 0.8050\n",
      "Best Val Acc: 0.8020 Test Acc: 0.8050\n",
      "Average Val Acc / Average Test Acc: 0.8013 / 0.8003\n"
     ]
    }
   ],
   "source": [
    "av_val_acc = av_test_acc = 0\n",
    "state_dict = model.state_dict().copy()\n",
    "\n",
    "for seed in seeds:\n",
    "    print(\"RUNNING FOR SEED =\", seed)\n",
    "    torch.manual_seed(seed)\n",
    "    random.seed(seed)\n",
    "    np.random.seed(seed)\n",
    "    \n",
    "    model.load_state_dict(state_dict)\n",
    "    optimizer = torch.optim.Adam(model.parameters(), lr=lr, weight_decay=5e-4)\n",
    "\n",
    "    best_val_acc = final_test_acc = 0\n",
    "    for epoch in range(1, 200):\n",
    "        loss = train(model, data, optimizer, scheduler=None, loss='cross_entropy')\n",
    "        train_acc, val_acc, tmp_test_acc = test(model, data)\n",
    "        if val_acc > best_val_acc:\n",
    "            best_val_acc = val_acc\n",
    "            test_acc = tmp_test_acc\n",
    "        if epoch % 25 == 0:\n",
    "            log(Epoch=epoch, Loss=loss, Train=train_acc, Val=val_acc, Test=test_acc)\n",
    "    print(f'Best Val Acc: {best_val_acc:.4f}', f'Test Acc: {test_acc:.4f}')\n",
    "    av_val_acc += best_val_acc\n",
    "    av_test_acc += test_acc\n",
    "    \n",
    "print(f'Average Val Acc / Average Test Acc: {av_val_acc / len(seeds):.4f} / {av_test_acc / len(seeds):.4f}')"
   ]
  },
  {
   "attachments": {},
   "cell_type": "markdown",
   "metadata": {},
   "source": [
    "LPA"
   ]
  },
  {
   "cell_type": "code",
   "execution_count": 7,
   "metadata": {},
   "outputs": [
    {
     "name": "stdout",
     "output_type": "stream",
     "text": [
      "RUNNING FOR SEED = 42\n",
      "Best Val Acc: 0.7220 Test Acc: 0.7150 Best l: 16 Best a: 0.99\n",
      "RUNNING FOR SEED = 2021\n",
      "Best Val Acc: 0.7220 Test Acc: 0.7150 Best l: 16 Best a: 0.99\n",
      "RUNNING FOR SEED = 1234\n",
      "Best Val Acc: 0.7220 Test Acc: 0.7150 Best l: 16 Best a: 0.99\n",
      "Average Val Acc / Average Test Acc: 0.7220 / 0.7150\n"
     ]
    }
   ],
   "source": [
    "av_val_acc = av_test_acc = 0\n",
    "\n",
    "for seed in seeds:\n",
    "    print(\"RUNNING FOR SEED =\", seed)\n",
    "    torch.manual_seed(seed)\n",
    "    random.seed(seed)\n",
    "    np.random.seed(seed)\n",
    "    best_val_acc = final_test_acc = 0\n",
    "    best_l = best_a = 0\n",
    "\n",
    "    for l in [1, 2, 4, 8, 16, 32]:\n",
    "        for a in [0.05, 0.1, 0.3, 0.6, 0.8, 0.9, 0.95, 0.99, 1]:\n",
    "            model = LP(num_layers=l, alpha=a)\n",
    "            outs = model.train(dataset)\n",
    "            train_acc, val_acc, tmp_test_acc = model.test()\n",
    "            if val_acc > best_val_acc:\n",
    "                best_val_acc = val_acc\n",
    "                test_acc = tmp_test_acc\n",
    "                best_l = l\n",
    "                best_a = a\n",
    "    print(f'Best Val Acc: {best_val_acc:.4f}', f'Test Acc: {test_acc:.4f}', f'Best l: {best_l}', f'Best a: {best_a}')\n",
    "    av_test_acc += test_acc\n",
    "    av_val_acc += best_val_acc    \n",
    "print(f'Average Val Acc / Average Test Acc: {av_val_acc / len(seeds):.4f} / {av_test_acc / len(seeds):.4f}')"
   ]
  },
  {
   "cell_type": "code",
   "execution_count": null,
   "metadata": {},
   "outputs": [],
   "source": []
  }
 ],
 "metadata": {
  "kernelspec": {
   "display_name": "py310",
   "language": "python",
   "name": "python3"
  },
  "language_info": {
   "codemirror_mode": {
    "name": "ipython",
    "version": 3
   },
   "file_extension": ".py",
   "mimetype": "text/x-python",
   "name": "python",
   "nbconvert_exporter": "python",
   "pygments_lexer": "ipython3",
   "version": "3.10.6"
  },
  "orig_nbformat": 4
 },
 "nbformat": 4,
 "nbformat_minor": 2
}

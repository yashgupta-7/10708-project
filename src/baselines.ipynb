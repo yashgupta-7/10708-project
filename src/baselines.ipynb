{
 "cells": [
  {
   "cell_type": "code",
   "execution_count": 1,
   "metadata": {},
   "outputs": [],
   "source": [
    "import torch\n",
    "import random\n",
    "import numpy as np\n",
    "import argparse\n",
    "\n",
    "import torch\n",
    "from torch import Tensor\n",
    "from torch_geometric.logging import init_wandb, log\n",
    "from torch_geometric.datasets import Planetoid\n",
    "from utils import train, test\n",
    "from models import GCN, GAT, LP"
   ]
  },
  {
   "cell_type": "code",
   "execution_count": 2,
   "metadata": {},
   "outputs": [],
   "source": [
    "citeseer = Planetoid(root='.', name='Citeseer')\n",
    "cora = Planetoid(root='.', name='Cora')\n",
    "pubmed = Planetoid(root='.', name='Pubmed')\n",
    "torch.use_deterministic_algorithms(True)"
   ]
  },
  {
   "cell_type": "code",
   "execution_count": 3,
   "metadata": {},
   "outputs": [],
   "source": [
    "k = 20\n",
    "seeds = [42, 2021, 1234]\n",
    "lr = 0.05\n",
    "epochs = 200"
   ]
  },
  {
   "cell_type": "code",
   "execution_count": 4,
   "metadata": {},
   "outputs": [],
   "source": [
    "dataset = citeseer\n",
    "model = GCN(dataset.num_features, 24, dataset.num_classes)\n",
    "\n",
    "# dataset = cora\n",
    "# model = GCN(dataset.num_features, 8, dataset.num_classes)\n",
    "\n",
    "# dataset = pubmed\n",
    "# model = GCN(dataset.num_features, 8, dataset.num_classes)\n",
    "\n",
    "# dataset = citeseer\n",
    "# model = GAT(dataset.num_features, 8, dataset.num_classes, heads=4)\n",
    "\n",
    "# dataset = cora\n",
    "# model = GAT(dataset.num_features, 8, dataset.num_classes, heads=4)\n",
    "\n",
    "# dataset = pubmed\n",
    "# model = GAT(dataset.num_features, 8, dataset.num_classes, heads=4)"
   ]
  },
  {
   "cell_type": "code",
   "execution_count": 5,
   "metadata": {},
   "outputs": [],
   "source": [
    "data = dataset[0]\n",
    "for c in data.y.unique():\n",
    "    idx = ((data.y == c) & data.train_mask).nonzero(as_tuple=False).view(-1)\n",
    "    idx = idx[torch.randperm(idx.size(0))]\n",
    "    idx = idx[k:]\n",
    "    data.train_mask[idx] = False"
   ]
  },
  {
   "cell_type": "code",
   "execution_count": 6,
   "metadata": {},
   "outputs": [
    {
     "name": "stdout",
     "output_type": "stream",
     "text": [
      "RUNNING FOR SEED = 42\n",
      "Epoch: 025, Loss: 0.004577638115733862, Train: 1.0000, Val: 0.6840, Test: 0.6820\n",
      "Epoch: 050, Loss: 0.005804179236292839, Train: 1.0000, Val: 0.6880, Test: 0.6940\n",
      "Epoch: 075, Loss: 0.005227127578109503, Train: 1.0000, Val: 0.6840, Test: 0.6940\n",
      "Epoch: 100, Loss: 0.004953151103109121, Train: 1.0000, Val: 0.6840, Test: 0.6940\n",
      "Epoch: 125, Loss: 0.004842142574489117, Train: 1.0000, Val: 0.6840, Test: 0.6940\n",
      "Epoch: 150, Loss: 0.004779416136443615, Train: 1.0000, Val: 0.6820, Test: 0.6940\n",
      "Epoch: 175, Loss: 0.004766649100929499, Train: 1.0000, Val: 0.6820, Test: 0.6940\n",
      "Best Val Acc: 0.6940 Test Acc: 0.6940\n",
      "RUNNING FOR SEED = 2021\n",
      "Epoch: 025, Loss: 0.008416415192186832, Train: 1.0000, Val: 0.5800, Test: 0.5640\n",
      "Epoch: 050, Loss: 0.005883164703845978, Train: 1.0000, Val: 0.6700, Test: 0.6240\n",
      "Epoch: 075, Loss: 0.005403239745646715, Train: 1.0000, Val: 0.6740, Test: 0.6340\n",
      "Epoch: 100, Loss: 0.005045166239142418, Train: 1.0000, Val: 0.6820, Test: 0.6340\n",
      "Epoch: 125, Loss: 0.005098957102745771, Train: 1.0000, Val: 0.6960, Test: 0.6750\n",
      "Epoch: 150, Loss: 0.005224751308560371, Train: 1.0000, Val: 0.6940, Test: 0.6750\n",
      "Epoch: 175, Loss: 0.005255448166280985, Train: 1.0000, Val: 0.6840, Test: 0.6750\n",
      "Best Val Acc: 0.6960 Test Acc: 0.6750\n",
      "RUNNING FOR SEED = 1234\n",
      "Epoch: 025, Loss: 0.0030263287480920553, Train: 1.0000, Val: 0.6520, Test: 0.6810\n",
      "Epoch: 050, Loss: 0.004145981278270483, Train: 1.0000, Val: 0.6980, Test: 0.6810\n",
      "Epoch: 075, Loss: 0.004803570453077555, Train: 1.0000, Val: 0.6900, Test: 0.6810\n",
      "Epoch: 100, Loss: 0.004957750905305147, Train: 1.0000, Val: 0.6800, Test: 0.6810\n",
      "Epoch: 125, Loss: 0.005044232122600079, Train: 1.0000, Val: 0.6820, Test: 0.6810\n",
      "Epoch: 150, Loss: 0.005023120436817408, Train: 1.0000, Val: 0.6840, Test: 0.6810\n",
      "Epoch: 175, Loss: 0.00498155364766717, Train: 1.0000, Val: 0.6840, Test: 0.6810\n",
      "Best Val Acc: 0.7100 Test Acc: 0.6810\n",
      "Average Val Acc: 0.7000 Average Test Acc: 0.6833\n"
     ]
    }
   ],
   "source": [
    "av_val_acc = av_test_acc = 0\n",
    "state_dict = model.state_dict()\n",
    "\n",
    "for seed in seeds:\n",
    "    print(\"RUNNING FOR SEED =\", seed)\n",
    "    torch.manual_seed(seed)\n",
    "    random.seed(seed)\n",
    "    np.random.seed(seed)\n",
    "    \n",
    "    model.load_state_dict(state_dict)\n",
    "    optimizer = torch.optim.Adam(model.parameters(), lr=lr, weight_decay=5e-4)\n",
    "\n",
    "    best_val_acc = final_test_acc = 0\n",
    "    for epoch in range(1, 200):\n",
    "        loss = train(model, data, optimizer, scheduler=None, loss='cross_entropy')\n",
    "        train_acc, val_acc, tmp_test_acc = test(model, data)\n",
    "        if val_acc > best_val_acc:\n",
    "            best_val_acc = val_acc\n",
    "            test_acc = tmp_test_acc\n",
    "        if epoch % 25 == 0:\n",
    "            log(Epoch=epoch, Loss=loss, Train=train_acc, Val=val_acc, Test=test_acc)\n",
    "    print(f'Best Val Acc: {best_val_acc:.4f}', f'Test Acc: {test_acc:.4f}')\n",
    "    av_val_acc += best_val_acc\n",
    "    av_test_acc += test_acc\n",
    "    \n",
    "print(f'Average Val Acc: {av_val_acc / len(seeds):.4f}', f'Average Test Acc: {av_test_acc / len(seeds):.4f}')    "
   ]
  }
 ],
 "metadata": {
  "kernelspec": {
   "display_name": "py310",
   "language": "python",
   "name": "python3"
  },
  "language_info": {
   "codemirror_mode": {
    "name": "ipython",
    "version": 3
   },
   "file_extension": ".py",
   "mimetype": "text/x-python",
   "name": "python",
   "nbconvert_exporter": "python",
   "pygments_lexer": "ipython3",
   "version": "3.10.6"
  },
  "orig_nbformat": 4
 },
 "nbformat": 4,
 "nbformat_minor": 2
}

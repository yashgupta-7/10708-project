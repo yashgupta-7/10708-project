{
 "cells": [
  {
   "cell_type": "code",
   "execution_count": 1,
   "metadata": {},
   "outputs": [],
   "source": [
    "import torch\n",
    "import random\n",
    "import numpy as np\n",
    "import argparse\n",
    "\n",
    "import torch\n",
    "from torch import Tensor\n",
    "from torch_geometric.logging import init_wandb, log\n",
    "from torch_geometric.datasets import Planetoid\n",
    "from utils import train, test\n",
    "from models import GCN, GAT, LP"
   ]
  },
  {
   "cell_type": "code",
   "execution_count": 2,
   "metadata": {},
   "outputs": [],
   "source": [
    "citeseer = Planetoid(root='.', name='Citeseer')\n",
    "cora = Planetoid(root='.', name='Cora')\n",
    "pubmed = Planetoid(root='.', name='Pubmed')\n",
    "torch.use_deterministic_algorithms(True)"
   ]
  },
  {
   "cell_type": "code",
   "execution_count": 19,
   "metadata": {},
   "outputs": [],
   "source": [
    "k = 1\n",
    "seeds = list(range(5))\n",
    "lr = 0.05\n",
    "epochs = 200"
   ]
  },
  {
   "cell_type": "code",
   "execution_count": 20,
   "metadata": {},
   "outputs": [],
   "source": [
    "# dataset = citeseer\n",
    "# model = GCN(dataset.num_features, 8, dataset.num_classes)\n",
    "\n",
    "# dataset = cora\n",
    "# model = GCN(dataset.num_features, 8, dataset.num_classes)\n",
    "\n",
    "# dataset = pubmed\n",
    "# model = GCN(dataset.num_features, 8, dataset.num_classes)\n",
    "\n",
    "# dataset = citeseer\n",
    "# model = GAT(dataset.num_features, 8, dataset.num_classes, heads=4)\n",
    "\n",
    "# dataset = cora\n",
    "# model = GAT(dataset.num_features, 8, dataset.num_classes, heads=4)\n",
    "\n",
    "dataset = pubmed\n",
    "model = GAT(dataset.num_features, 8, dataset.num_classes, heads=4)"
   ]
  },
  {
   "cell_type": "code",
   "execution_count": 21,
   "metadata": {},
   "outputs": [],
   "source": [
    "data = dataset[0]\n",
    "for c in data.y.unique():\n",
    "    idx = ((data.y == c) & data.train_mask).nonzero(as_tuple=False).view(-1)\n",
    "    idx = idx[torch.randperm(idx.size(0))]\n",
    "    idx = idx[k:]\n",
    "    data.train_mask[idx] = False"
   ]
  },
  {
   "cell_type": "code",
   "execution_count": 22,
   "metadata": {},
   "outputs": [
    {
     "name": "stdout",
     "output_type": "stream",
     "text": [
      "RUNNING FOR SEED = 0\n",
      "Epoch: 025, Loss: 0.6572325825691223, Train: 1.0000, Val: 0.5100, Test: 0.5530\n",
      "Epoch: 050, Loss: 0.5565707683563232, Train: 1.0000, Val: 0.5100, Test: 0.5580\n",
      "Epoch: 075, Loss: 0.40692010521888733, Train: 1.0000, Val: 0.5600, Test: 0.5580\n",
      "Epoch: 100, Loss: 0.1948951929807663, Train: 1.0000, Val: 0.5780, Test: 0.6350\n",
      "Epoch: 125, Loss: 0.13045743107795715, Train: 1.0000, Val: 0.5120, Test: 0.6350\n",
      "Epoch: 150, Loss: 0.1663239747285843, Train: 1.0000, Val: 0.4680, Test: 0.6350\n",
      "Epoch: 175, Loss: 0.30762746930122375, Train: 1.0000, Val: 0.5560, Test: 0.6430\n",
      "Best Val Acc: 0.6680 Test Acc: 0.6430\n",
      "RUNNING FOR SEED = 1\n",
      "Epoch: 025, Loss: 0.11234235018491745, Train: 1.0000, Val: 0.5060, Test: 0.5040\n",
      "Epoch: 050, Loss: 0.4810583293437958, Train: 1.0000, Val: 0.5060, Test: 0.5890\n",
      "Epoch: 075, Loss: 0.004034919664263725, Train: 1.0000, Val: 0.4340, Test: 0.5890\n",
      "Epoch: 100, Loss: 0.0012076605344191194, Train: 1.0000, Val: 0.2900, Test: 0.5890\n",
      "Epoch: 125, Loss: 0.2508697211742401, Train: 1.0000, Val: 0.4620, Test: 0.5890\n",
      "Epoch: 150, Loss: 0.0001736427511787042, Train: 1.0000, Val: 0.4500, Test: 0.5890\n",
      "Epoch: 175, Loss: 0.05389966443181038, Train: 1.0000, Val: 0.5260, Test: 0.5890\n",
      "Best Val Acc: 0.6000 Test Acc: 0.5970\n",
      "RUNNING FOR SEED = 2\n",
      "Epoch: 025, Loss: 0.20236007869243622, Train: 1.0000, Val: 0.5520, Test: 0.5630\n",
      "Epoch: 050, Loss: 0.0025968379341065884, Train: 1.0000, Val: 0.5520, Test: 0.6130\n",
      "Epoch: 075, Loss: 0.03586756810545921, Train: 1.0000, Val: 0.5640, Test: 0.6130\n",
      "Epoch: 100, Loss: 1.5786148309707642, Train: 1.0000, Val: 0.4440, Test: 0.6130\n",
      "Epoch: 125, Loss: 0.15454663336277008, Train: 1.0000, Val: 0.3920, Test: 0.6130\n",
      "Epoch: 150, Loss: 0.0009768435265868902, Train: 1.0000, Val: 0.3780, Test: 0.6130\n",
      "Epoch: 175, Loss: 0.0017900796374306083, Train: 1.0000, Val: 0.5720, Test: 0.6130\n",
      "Best Val Acc: 0.6240 Test Acc: 0.6130\n",
      "RUNNING FOR SEED = 3\n",
      "Epoch: 025, Loss: 0.16855256259441376, Train: 1.0000, Val: 0.4760, Test: 0.6260\n",
      "Epoch: 050, Loss: 0.5709024667739868, Train: 1.0000, Val: 0.6100, Test: 0.6600\n",
      "Epoch: 075, Loss: 0.5178230404853821, Train: 1.0000, Val: 0.5100, Test: 0.6600\n",
      "Epoch: 100, Loss: 1.8840667009353638, Train: 1.0000, Val: 0.5400, Test: 0.6600\n",
      "Epoch: 125, Loss: 0.035367753356695175, Train: 1.0000, Val: 0.3940, Test: 0.6600\n",
      "Epoch: 150, Loss: 3.973640616550256e-07, Train: 1.0000, Val: 0.4800, Test: 0.6600\n",
      "Epoch: 175, Loss: 0.00012988435628358275, Train: 1.0000, Val: 0.2720, Test: 0.6600\n",
      "Best Val Acc: 0.6500 Test Acc: 0.6600\n",
      "RUNNING FOR SEED = 4\n",
      "Epoch: 025, Loss: 0.00848078541457653, Train: 1.0000, Val: 0.5460, Test: 0.5330\n",
      "Epoch: 050, Loss: 0.036716029047966, Train: 1.0000, Val: 0.4920, Test: 0.5330\n",
      "Epoch: 075, Loss: 0.20866210758686066, Train: 1.0000, Val: 0.5120, Test: 0.5950\n",
      "Epoch: 100, Loss: 0.0008842008537612855, Train: 1.0000, Val: 0.5060, Test: 0.5950\n",
      "Epoch: 125, Loss: 0.12873126566410065, Train: 1.0000, Val: 0.3200, Test: 0.6260\n",
      "Epoch: 150, Loss: 0.3273402154445648, Train: 1.0000, Val: 0.3200, Test: 0.6260\n",
      "Epoch: 175, Loss: 0.5023090839385986, Train: 1.0000, Val: 0.5640, Test: 0.6260\n",
      "Best Val Acc: 0.6380 Test Acc: 0.6260\n",
      "Average Val Acc: 0.6360 Average Test Acc: 0.6278\n"
     ]
    }
   ],
   "source": [
    "av_val_acc = av_test_acc = 0\n",
    "state_dict = model.state_dict()\n",
    "\n",
    "for seed in seeds:\n",
    "    print(\"RUNNING FOR SEED =\", seed)\n",
    "    torch.manual_seed(seed)\n",
    "    random.seed(seed)\n",
    "    np.random.seed(seed)\n",
    "    \n",
    "    model.load_state_dict(state_dict)\n",
    "    optimizer = torch.optim.Adam(model.parameters(), lr=lr, weight_decay=5e-4)\n",
    "\n",
    "    best_val_acc = final_test_acc = 0\n",
    "    for epoch in range(1, 200):\n",
    "        loss = train(model, data, optimizer, scheduler=None, loss='cross_entropy')\n",
    "        train_acc, val_acc, tmp_test_acc = test(model, data)\n",
    "        if val_acc > best_val_acc:\n",
    "            best_val_acc = val_acc\n",
    "            test_acc = tmp_test_acc\n",
    "        if epoch % 25 == 0:\n",
    "            log(Epoch=epoch, Loss=loss, Train=train_acc, Val=val_acc, Test=test_acc)\n",
    "    print(f'Best Val Acc: {best_val_acc:.4f}', f'Test Acc: {test_acc:.4f}')\n",
    "    av_val_acc += best_val_acc\n",
    "    av_test_acc += test_acc\n",
    "    \n",
    "print(f'Average Val Acc: {av_val_acc / len(seeds):.4f}', f'Average Test Acc: {av_test_acc / len(seeds):.4f}')    "
   ]
  },
  {
   "cell_type": "code",
   "execution_count": null,
   "metadata": {},
   "outputs": [],
   "source": []
  },
  {
   "cell_type": "code",
   "execution_count": null,
   "metadata": {},
   "outputs": [],
   "source": []
  },
  {
   "cell_type": "code",
   "execution_count": null,
   "metadata": {},
   "outputs": [],
   "source": []
  }
 ],
 "metadata": {
  "kernelspec": {
   "display_name": "base",
   "language": "python",
   "name": "python3"
  },
  "language_info": {
   "codemirror_mode": {
    "name": "ipython",
    "version": 3
   },
   "file_extension": ".py",
   "mimetype": "text/x-python",
   "name": "python",
   "nbconvert_exporter": "python",
   "pygments_lexer": "ipython3",
   "version": "3.9.12"
  },
  "orig_nbformat": 4,
  "vscode": {
   "interpreter": {
    "hash": "1fe8eaf950b0cf64c1b70de22759d9a144a2595c541b4003711edd1f96d908e5"
   }
  }
 },
 "nbformat": 4,
 "nbformat_minor": 2
}

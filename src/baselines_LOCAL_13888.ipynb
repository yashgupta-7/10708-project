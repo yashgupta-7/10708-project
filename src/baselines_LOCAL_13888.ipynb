{
 "cells": [
  {
   "cell_type": "code",
   "execution_count": 1,
   "metadata": {},
   "outputs": [],
   "source": [
    "import torch\n",
    "import random\n",
    "import numpy as np\n",
    "import argparse\n",
    "\n",
    "import torch\n",
    "from torch import Tensor\n",
    "from torch_geometric.logging import init_wandb, log\n",
    "from torch_geometric.datasets import Planetoid\n",
    "from utils import train, test\n",
    "from models import GCN, GAT, LP"
   ]
  },
  {
   "cell_type": "code",
   "execution_count": 2,
   "metadata": {},
   "outputs": [],
   "source": [
    "citeseer = Planetoid(root='.', name='Citeseer')\n",
    "cora = Planetoid(root='.', name='Cora')\n",
    "pubmed = Planetoid(root='.', name='Pubmed')\n",
    "torch.use_deterministic_algorithms(True)"
   ]
  },
  {
   "cell_type": "code",
   "execution_count": 3,
   "metadata": {},
   "outputs": [],
   "source": [
    "k = 1\n",
    "seeds = [42, 2021, 1234]\n",
    "lr = 0.05\n",
    "epochs = 200"
   ]
  },
  {
   "attachments": {},
   "cell_type": "markdown",
   "metadata": {},
   "source": [
    "GAT/GCN"
   ]
  },
  {
   "cell_type": "code",
   "execution_count": 4,
   "metadata": {},
   "outputs": [],
   "source": [
    "dataset = citeseer\n",
    "model = GCN(dataset.num_features, 16, dataset.num_classes)\n",
    "\n",
    "# dataset = cora\n",
    "# model = GCN(dataset.num_features, 16, dataset.num_classes)\n",
    "\n",
    "# dataset = pubmed\n",
    "# model = GCN(dataset.num_features, 16, dataset.num_classes)\n",
    "\n",
    "# dataset = citeseer\n",
    "# model = GAT(dataset.num_features, 8, dataset.num_classes, heads=8)\n",
    "\n",
    "# dataset = cora\n",
    "# model = GAT(dataset.num_features, 8, dataset.num_classes, heads=8)\n",
    "\n",
    "# dataset = pubmed\n",
    "# model = GAT(dataset.num_features, 8, dataset.num_classes, heads=8)"
   ]
  },
  {
   "cell_type": "code",
   "execution_count": 5,
   "metadata": {},
   "outputs": [],
   "source": [
    "torch.manual_seed(0)\n",
    "data = dataset[0]\n",
    "for c in data.y.unique():\n",
    "    idx = ((data.y == c) & data.train_mask).nonzero(as_tuple=False).view(-1)\n",
    "    idx = idx[torch.randperm(idx.size(0))]\n",
    "    idx = idx[k:]\n",
    "    data.train_mask[idx] = False"
   ]
  },
  {
   "cell_type": "code",
   "execution_count": 6,
   "metadata": {},
   "outputs": [
    {
     "name": "stdout",
     "output_type": "stream",
     "text": [
      "RUNNING FOR SEED = 42\n",
      "Epoch: 025, Loss: 3.2782238577055978e-06, Train: 1.0000, Val: 0.3080, Test: 0.3480\n",
      "Epoch: 050, Loss: 6.009629214531742e-05, Train: 1.0000, Val: 0.3800, Test: 0.3480\n",
      "Epoch: 075, Loss: 0.0004190208564978093, Train: 1.0000, Val: 0.3940, Test: 0.3480\n",
      "Epoch: 100, Loss: 0.0008498384268023074, Train: 1.0000, Val: 0.3980, Test: 0.3480\n",
      "Epoch: 125, Loss: 0.0009150051628239453, Train: 1.0000, Val: 0.4160, Test: 0.3700\n",
      "Epoch: 150, Loss: 0.0009999716421589255, Train: 1.0000, Val: 0.4240, Test: 0.3830\n",
      "Epoch: 175, Loss: 0.0009768542367964983, Train: 1.0000, Val: 0.4340, Test: 0.3780\n",
      "Best Val Acc: 0.4400 Test Acc: 0.3730\n",
      "RUNNING FOR SEED = 2021\n",
      "Epoch: 025, Loss: 0.0012220707722008228, Train: 1.0000, Val: 0.3780, Test: 0.3440\n",
      "Epoch: 050, Loss: 0.0009002771112136543, Train: 1.0000, Val: 0.3700, Test: 0.3440\n",
      "Epoch: 075, Loss: 0.0008866720017977059, Train: 1.0000, Val: 0.3740, Test: 0.3440\n",
      "Epoch: 100, Loss: 0.000879831553902477, Train: 1.0000, Val: 0.3700, Test: 0.3440\n",
      "Epoch: 125, Loss: 0.0008761978824622929, Train: 1.0000, Val: 0.3740, Test: 0.3440\n",
      "Epoch: 150, Loss: 0.0008884056587703526, Train: 1.0000, Val: 0.3660, Test: 0.3440\n",
      "Epoch: 175, Loss: 0.0008946622838266194, Train: 1.0000, Val: 0.3780, Test: 0.3440\n",
      "Best Val Acc: 0.4260 Test Acc: 0.3440\n",
      "RUNNING FOR SEED = 1234\n",
      "Epoch: 025, Loss: 0.0005489040049724281, Train: 1.0000, Val: 0.2960, Test: 0.3340\n",
      "Epoch: 050, Loss: 0.0007531974115408957, Train: 1.0000, Val: 0.3700, Test: 0.3080\n",
      "Epoch: 075, Loss: 0.0008521911222487688, Train: 1.0000, Val: 0.3720, Test: 0.3420\n",
      "Epoch: 100, Loss: 0.0008693197160027921, Train: 1.0000, Val: 0.3680, Test: 0.3420\n",
      "Epoch: 125, Loss: 0.0008789783460088074, Train: 1.0000, Val: 0.3780, Test: 0.3420\n",
      "Epoch: 150, Loss: 0.0009055011323653162, Train: 1.0000, Val: 0.3720, Test: 0.3420\n",
      "Epoch: 175, Loss: 0.0008577388362027705, Train: 1.0000, Val: 0.3820, Test: 0.3420\n",
      "Best Val Acc: 0.3860 Test Acc: 0.3420\n",
      "Average Val Acc / Average Test Acc: 0.4173 / 0.3530\n"
     ]
    }
   ],
   "source": [
    "av_val_acc = av_test_acc = 0\n",
    "state_dict = model.state_dict().copy()\n",
    "\n",
    "for seed in seeds:\n",
    "    print(\"RUNNING FOR SEED =\", seed)\n",
    "    torch.manual_seed(seed)\n",
    "    random.seed(seed)\n",
    "    np.random.seed(seed)\n",
    "    \n",
    "    model.load_state_dict(state_dict)\n",
    "    optimizer = torch.optim.Adam(model.parameters(), lr=lr, weight_decay=5e-4)\n",
    "\n",
    "    best_val_acc = final_test_acc = 0\n",
    "    for epoch in range(1, 200):\n",
    "        loss = train(model, data, optimizer, scheduler=None, loss='cross_entropy')\n",
    "        train_acc, val_acc, tmp_test_acc = test(model, data)\n",
    "        if val_acc > best_val_acc:\n",
    "            best_val_acc = val_acc\n",
    "            test_acc = tmp_test_acc\n",
    "        if epoch % 25 == 0:\n",
    "            log(Epoch=epoch, Loss=loss, Train=train_acc, Val=val_acc, Test=test_acc)\n",
    "    print(f'Best Val Acc: {best_val_acc:.4f}', f'Test Acc: {test_acc:.4f}')\n",
    "    av_val_acc += best_val_acc\n",
    "    av_test_acc += test_acc\n",
    "    \n",
    "print(f'Average Val Acc / Average Test Acc: {av_val_acc / len(seeds):.4f} / {av_test_acc / len(seeds):.4f}')"
   ]
  },
  {
   "attachments": {},
   "cell_type": "markdown",
   "metadata": {},
   "source": [
    "LPA"
   ]
  },
  {
   "cell_type": "code",
   "execution_count": 7,
   "metadata": {},
   "outputs": [
    {
     "name": "stdout",
     "output_type": "stream",
     "text": [
      "RUNNING FOR SEED = 42\n",
      "Best Val Acc: 0.3040 Test Acc: 0.2990 Best l: 16 Best a: 0.05\n",
      "RUNNING FOR SEED = 2021\n",
      "Best Val Acc: 0.3040 Test Acc: 0.2990 Best l: 16 Best a: 0.05\n",
      "RUNNING FOR SEED = 1234\n",
      "Best Val Acc: 0.3040 Test Acc: 0.2990 Best l: 16 Best a: 0.05\n",
      "Average Val Acc / Average Test Acc: 0.3040 / 0.2990\n"
     ]
    }
   ],
   "source": [
    "av_val_acc = av_test_acc = 0\n",
    "\n",
    "for seed in seeds:\n",
    "    print(\"RUNNING FOR SEED =\", seed)\n",
    "    torch.manual_seed(seed)\n",
    "    random.seed(seed)\n",
    "    np.random.seed(seed)\n",
    "    best_val_acc = final_test_acc = 0\n",
    "    best_l = best_a = 0\n",
    "\n",
    "    for l in [1, 2, 4, 8, 16, 32]:\n",
    "        for a in [0.05, 0.1, 0.3, 0.6, 0.8, 0.9, 0.95, 0.99, 1]:\n",
    "            model = LP(num_layers=l, alpha=a)\n",
    "            outs = model.train(dataset)\n",
    "            train_acc, val_acc, tmp_test_acc = model.test()\n",
    "            if val_acc > best_val_acc:\n",
    "                best_val_acc = val_acc\n",
    "                test_acc = tmp_test_acc\n",
    "                best_l = l\n",
    "                best_a = a\n",
    "    print(f'Best Val Acc: {best_val_acc:.4f}', f'Test Acc: {test_acc:.4f}', f'Best l: {best_l}', f'Best a: {best_a}')\n",
    "    av_test_acc += test_acc\n",
    "    av_val_acc += best_val_acc    \n",
    "print(f'Average Val Acc / Average Test Acc: {av_val_acc / len(seeds):.4f} / {av_test_acc / len(seeds):.4f}')"
   ]
  },
  {
   "cell_type": "code",
   "execution_count": null,
   "metadata": {},
   "outputs": [],
   "source": []
  }
 ],
 "metadata": {
  "kernelspec": {
   "display_name": "py310",
   "language": "python",
   "name": "python3"
  },
  "language_info": {
   "codemirror_mode": {
    "name": "ipython",
    "version": 3
   },
   "file_extension": ".py",
   "mimetype": "text/x-python",
   "name": "python",
   "nbconvert_exporter": "python",
   "pygments_lexer": "ipython3",
   "version": "3.10.6"
  },
  "orig_nbformat": 4
 },
 "nbformat": 4,
 "nbformat_minor": 2
}
